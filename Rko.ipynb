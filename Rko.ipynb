{
  "nbformat": 4,
  "nbformat_minor": 0,
  "metadata": {
    "colab": {
      "provenance": []
    },
    "kernelspec": {
      "name": "ir",
      "display_name": "R"
    },
    "language_info": {
      "name": "R"
    }
  },
  "cells": [
    {
      "cell_type": "code",
      "execution_count": null,
      "metadata": {
        "colab": {
          "base_uri": "https://localhost:8080/"
        },
        "id": "RwMyi8yhflxP",
        "outputId": "f812425c-208a-4e07-c4f4-483cba8dec6e"
      },
      "outputs": [
        {
          "output_type": "stream",
          "name": "stdout",
          "text": [
            "[1] 0.954\n",
            "[1] 0+0.87i\n"
          ]
        }
      ],
      "source": [
        "rm(list = ls())\n",
        "\n",
        "angle <- 2+3/2*pi\n",
        "if (cos(angle) >= 0) {\n",
        "  result <- round(sqrt(cos(angle)),3)\n",
        "} else {\n",
        "  result <- as.complex(round(sqrt(cos(angle)),3))\n",
        "}\n",
        "print(result)\n",
        "\n",
        "angle2 <- 4+3/2*pi\n",
        "if (cos(angle2) >= 0) {\n",
        "  result2 <- round(sqrt(cos(angle2)),3)\n",
        "} else {\n",
        "  result2 <- round(sqrt(as.complex(cos(angle2))),3)\n",
        "}\n",
        "\n",
        "print(result2)"
      ]
    },
    {
      "cell_type": "code",
      "source": [
        "x <- 2\n",
        "\n",
        "round(log(2*x*x + 10, base = 4),3)\n",
        "\n",
        "y <- 4\n",
        "round(log(2*y*y + 10, base = 4),3)\n"
      ],
      "metadata": {
        "colab": {
          "base_uri": "https://localhost:8080/",
          "height": 52
        },
        "id": "VvvaIQpbkv7w",
        "outputId": "e4140462-8a47-4b19-f654-9e376c2139d9"
      },
      "execution_count": null,
      "outputs": [
        {
          "output_type": "display_data",
          "data": {
            "text/html": [
              "2.085"
            ],
            "text/markdown": "2.085",
            "text/latex": "2.085",
            "text/plain": [
              "[1] 2.085"
            ]
          },
          "metadata": {}
        },
        {
          "output_type": "display_data",
          "data": {
            "text/html": [
              "2.696"
            ],
            "text/markdown": "2.696",
            "text/latex": "2.696",
            "text/plain": [
              "[1] 2.696"
            ]
          },
          "metadata": {}
        }
      ]
    },
    {
      "cell_type": "code",
      "source": [
        "text <- \"copak zlaTOvláska ale JMELí!\"\n",
        "text <- tolower(text)\n",
        "text <- paste0(toupper(substring(text, 1,1)),substring(text,2,6),toupper(substring(text,7,7)),substring(text, 8,nchar(text)))\n",
        "\n",
        "\n",
        "print(text)"
      ],
      "metadata": {
        "colab": {
          "base_uri": "https://localhost:8080/"
        },
        "id": "z9H75P1_mNqI",
        "outputId": "aa5af1fb-6c0d-4cf6-b419-6b2f81af759e"
      },
      "execution_count": null,
      "outputs": [
        {
          "output_type": "stream",
          "name": "stdout",
          "text": [
            "[1] \"Copak Zlatovláska ale jmelí!\"\n"
          ]
        }
      ]
    },
    {
      "cell_type": "code",
      "source": [
        "pole1 <- c(1, 2, 3)\n",
        "pole2 <- c(3, 4, 5)\n",
        "\n",
        "skalarniSoucin <- sum(pole1*pole2)\n",
        "print(skalarniSoucin)\n",
        "\n",
        "vzdalenost <- sqrt(sum((pole1 - pole2) * (pole1-pole2)))\n",
        "print(vzdalenost)"
      ],
      "metadata": {
        "colab": {
          "base_uri": "https://localhost:8080/"
        },
        "id": "IccLjFJ-oSW5",
        "outputId": "99db850c-790e-4101-ced2-3aeca02d0890"
      },
      "execution_count": null,
      "outputs": [
        {
          "output_type": "stream",
          "name": "stdout",
          "text": [
            "[1] 26\n",
            "[1] 3.464102\n"
          ]
        }
      ]
    }
  ]
}